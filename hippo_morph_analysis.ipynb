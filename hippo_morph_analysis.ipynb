{
 "cells": [
  {
   "cell_type": "code",
   "execution_count": 338,
   "id": "1e84ebd9-bb85-48b7-aa1d-984b15911e69",
   "metadata": {},
   "outputs": [],
   "source": [
    "import numpy as np\n",
    "from brainspace.plotting import plot_hemispheres\n",
    "import nibabel as nib\n",
    "from brainspace.mesh.mesh_io import read_surface\n",
    "import pandas as pd\n",
    "from surfplot import Plot\n",
    "import matplotlib.pyplot as plt\n",
    "import seaborn as sns\n",
    "from glob import glob"
   ]
  },
  {
   "cell_type": "code",
   "execution_count": 276,
   "id": "29a37ccb-55a2-4afd-8f53-0875d7754416",
   "metadata": {},
   "outputs": [],
   "source": [
    "canonical_midthick_path = 'tpl-avg_space-canonical_den-0p5mm_midthickness.surf.gii'\n",
    "canonical_midthick = read_surface(canonical_midthick_path)\n",
    "\n",
    "sub_data = '/home/myousif/graham/scratch/AV100v4_2018_03_12_Roy_Haast.csv'\n",
    "\n",
    "features = ['thickness','curvature','gyrification','surfarea']\n",
    "hipp_feature_path = '/home/myousif/graham/scratch/DM2_hippunfold_v1.0.0_run1/hippunfold/sub-{sub}/surf/sub-{sub}_space-T1w_den-0p5mm_label-hipp_{feature}.dscalar.nii'\n",
    "\n",
    "surfarea_feature_path = '/home/myousif/graham/scratch/DM2_hippunfold_v1.0.0_run1/hippunfold/sub-{sub}/surf/sub-{sub}_hemi-{hemi}_space-T1w_den-0p5mm_label-hipp_{feature}.shape.gii'\n",
    "\n",
    "flatmap_path = '/home/myousif/graham/scratch/DM2_hippunfold_v1.0.0_run1/hippunfold/sub-S01/surf/sub-S01_hemi-R_space-unfolded_den-0p5mm_label-hipp_midthickness.surf.gii'\n",
    "flatmap = read_surface(flatmap_path)"
   ]
  },
  {
   "cell_type": "code",
   "execution_count": 133,
   "id": "662e66c1-9712-43c5-9308-5b864d09932e",
   "metadata": {},
   "outputs": [],
   "source": [
    "subjects = [sub.split('/')[-2].replace('sub-','') for sub in glob('/home/myousif/graham/scratch/DM2_hippunfold_v1.0.0_run1/hippunfold/sub-*/')]\n",
    "sub_df = pd.read_csv(sub_data,index_col=0)\n",
    "sub_df.STUDY_ID = [sub.replace('S0','S') for sub in sub_df.STUDY_ID]\n",
    "sub_df = sub_df[sub_df.STUDY_ID.isin(subjects)]"
   ]
  },
  {
   "cell_type": "code",
   "execution_count": 222,
   "id": "43d50f3c-4a56-4aa6-b282-817130b76961",
   "metadata": {},
   "outputs": [],
   "source": [
    "hippdata = lambda sub,feature: nib.load(hipp_feature_path.format(sub=sub,feature=feature)).get_fdata()\n",
    "hippdata_path = lambda path, sub, feature,hemi: nib.load(path.format(sub=sub,feature=feature,hemi=hemi)).darrays[0].data"
   ]
  },
  {
   "cell_type": "code",
   "execution_count": 218,
   "id": "eb26329f-9690-4f6a-a655-bb98ec871e2d",
   "metadata": {},
   "outputs": [],
   "source": [
    "def load_dataset_feature(subjects,feature):\n",
    "    sub1_data = hippdata(subjects[0],feature)\n",
    "    data_feature = np.zeros((np.size(subjects),np.size(sub1_data)))\n",
    "    data_feature[0,:] = sub1_data\n",
    "    for idx,sub in enumerate(subjects[1:]):\n",
    "        data_feature[idx+1,:] = hippdata(sub=sub, feature=feature)\n",
    "    return data_feature\n",
    "        \n",
    "    "
   ]
  },
  {
   "cell_type": "code",
   "execution_count": 219,
   "id": "da9ca16e-d79c-4c7c-8001-e0ed32615958",
   "metadata": {},
   "outputs": [],
   "source": [
    "thick = load_dataset_feature(sub_df.STUDY_ID,'thickness')\n",
    "curv = load_dataset_feature(sub_df.STUDY_ID,'curvature')\n",
    "gyr = load_dataset_feature(sub_df.STUDY_ID,'gyrification')\n",
    "\n"
   ]
  },
  {
   "cell_type": "code",
   "execution_count": 436,
   "id": "1e490b62-a778-49c2-8878-3454c35d1d27",
   "metadata": {},
   "outputs": [],
   "source": [
    "np.savez('dm2_hippo_feature_data.npz',thick=thick,curv=curv,gyr=gyr,surfarea=surfarea)"
   ]
  },
  {
   "cell_type": "code",
   "execution_count": 229,
   "id": "ce5a577c-0019-4665-add2-37e50392241e",
   "metadata": {
    "tags": []
   },
   "outputs": [],
   "source": [
    "def load_dataset_path_feature(path,subjects,feature,hemi=['L','R']):\n",
    "    if len(hemi)>1:\n",
    "        data ={'L':None,'R':None}\n",
    "        \n",
    "        for h in hemi:\n",
    "            sub1_data = hippdata_path(path,subjects[0],feature,hemi=h)\n",
    "            data_feature = np.zeros((np.size(subjects),np.size(sub1_data)))\n",
    "            data_feature[0,:] = sub1_data\n",
    "\n",
    "            for idx,sub in enumerate(subjects[1:]):\n",
    "                data_feature[idx+1,:] = hippdata_path(path,sub=sub, feature=feature,hemi=h)\n",
    "            \n",
    "            data[h] = data_feature\n",
    "        \n",
    "        return np.concatenate((data['L'], data['R']),axis=1)\n",
    "    \n",
    "    else:\n",
    "        sub1_data = hippdata_path(path,subjects[0],feature,hemi=h)\n",
    "        data_feature = np.zeros((np.size(subjects),np.size(sub1_data)))\n",
    "        data_feature[0,:] = sub1_data\n",
    "\n",
    "        for idx,sub in enumerate(subjects[1:]):\n",
    "            data_feature[idx+1,:] = hippdata_path(path,sub=sub, feature=feature)\n",
    "    \n",
    "        return data_feature"
   ]
  },
  {
   "cell_type": "code",
   "execution_count": 230,
   "id": "9ba246fb-a59a-4a7f-841b-15fe964ab598",
   "metadata": {},
   "outputs": [],
   "source": [
    "surfarea = load_dataset_path_feature(surfarea_feature_path, sub_df.STUDY_ID,'surfarea',hemi=['L','R'])"
   ]
  },
  {
   "cell_type": "code",
   "execution_count": 369,
   "id": "d029df61-636f-43d0-9960-e3151a27321a",
   "metadata": {},
   "outputs": [],
   "source": [
    "lr_split =  lambda feature: np.split(feature,2,axis=feature.shape.index(np.max(np.shape(feature))))"
   ]
  },
  {
   "cell_type": "code",
   "execution_count": 169,
   "id": "184feead-f736-4193-9322-a9502324e489",
   "metadata": {},
   "outputs": [],
   "source": [
    "def limit_range(feature,n_std=3,allow_negative = False):\n",
    "    mean = feature.mean() \n",
    "    std = feature.std()\n",
    "    \n",
    "    upper = mean + n_std*std\n",
    "    lower = mean - n_std*std\n",
    "    \n",
    "    \n",
    "    if lower <=0 and allow_negative == False:\n",
    "        lower = 0\n",
    "    else:\n",
    "        feature[feature < lower] = lower\n",
    "            \n",
    "    feature[feature > upper] = upper\n",
    "    \n",
    "    \n",
    "    return feature"
   ]
  },
  {
   "cell_type": "code",
   "execution_count": 370,
   "id": "6541428c-7dea-40af-a6ca-aca2b93dccb3",
   "metadata": {},
   "outputs": [],
   "source": [
    "def plot_hippo(feature,n_std=0,allow_negative=False):\n",
    "    feature_split = lr_split(feature)\n",
    "    p = Plot(surf_lh=canonical_midthick,surf_rh=canonical_midthick,views=['dorsal','ventral'],zoom=1)\n",
    "    p.add_layer({'left':limit_range(feature_split[0],n_std,allow_negative),'right':limit_range(feature_split[1],n_std,allow_negative)},cmap='viridis')\n",
    "    fig = p.build()\n",
    "    return p, fig"
   ]
  },
  {
   "cell_type": "code",
   "execution_count": 379,
   "id": "6b26398e-fe9c-44d3-9089-98e8b0dfc965",
   "metadata": {},
   "outputs": [],
   "source": [
    "def plot_flatmap(feature,hemi='both',n_std=0,allow_negative=False):\n",
    "    if hemi == 'both':\n",
    "        feature_split = lr_split(feature)\n",
    "        p = Plot(surf_lh=flatmap,surf_rh=flatmap,views=['dorsal'],zoom = 1.1)\n",
    "        p.add_layer({'left':limit_range(feature_split[0],n_std,allow_negative),'right':limit_range(feature_split[1],n_std,allow_negative)},cmap='viridis')\n",
    "        fig = p.build()\n",
    "    else:\n",
    "        p = Plot(surf_lh=flatmap,views=['dorsal'],zoom = 1.1)\n",
    "        p.add_layer({'left':limit_range(feature,n_std,allow_negative)},cmap='viridis')\n",
    "        fig = p.build()\n",
    "    return p, fig"
   ]
  },
  {
   "cell_type": "code",
   "execution_count": 291,
   "id": "e3b144f9-3a89-4444-bed6-8645d028a79d",
   "metadata": {},
   "outputs": [
    {
     "data": {
      "image/png": "[encoded data removed]",
      "text/plain": [
       "<Figure size 432x360 with 2 Axes>"
      ]
     },
     "metadata": {
      "needs_background": "light"
     },
     "output_type": "display_data"
    }
   ],
   "source": [
    "p_test, fig_test = plot_flatmap(thick_s01,3)"
   ]
  },
  {
   "cell_type": "code",
   "execution_count": 294,
   "id": "3526d4c8-98e7-4f43-ac9f-f158daa56f75",
   "metadata": {},
   "outputs": [
    {
     "data": {
      "text/plain": [
       "(<surfplot.plotting.Plot at 0x7f11e0aafca0>, <Figure size 432x360 with 2 Axes>)"
      ]
     },
     "execution_count": 294,
     "metadata": {},
     "output_type": "execute_result"
    },
    {
     "data": {
      "image/png": "[encoded data removed]",
      "text/plain": [
       "<Figure size 432x360 with 2 Axes>"
      ]
     },
     "metadata": {
      "needs_background": "light"
     },
     "output_type": "display_data"
    }
   ],
   "source": [
    "plot_hippo(np.mean(thick,axis=0),4)"
   ]
  },
  {
   "cell_type": "code",
   "execution_count": 274,
   "id": "7ac073f8-ddba-4831-84b0-be9359eb8422",
   "metadata": {},
   "outputs": [
    {
     "data": {
      "text/plain": [
       "(<surfplot.plotting.Plot at 0x7f11c3797b20>, <Figure size 432x360 with 2 Axes>)"
      ]
     },
     "execution_count": 274,
     "metadata": {},
     "output_type": "execute_result"
    },
    {
     "data": {
      "image/png": "[encoded data removed]",
      "text/plain": [
       "<Figure size 432x360 with 2 Axes>"
      ]
     },
     "metadata": {
      "needs_background": "light"
     },
     "output_type": "display_data"
    }
   ],
   "source": [
    "plot_hippo(np.mean(curv,axis=0),3, allow_negative=True)"
   ]
  },
  {
   "cell_type": "code",
   "execution_count": 176,
   "id": "c631a018-8eb1-45d9-819e-92322ea44e45",
   "metadata": {},
   "outputs": [
    {
     "data": {
      "text/plain": [
       "(<surfplot.plotting.Plot at 0x7f121fad2640>, <Figure size 432x360 with 2 Axes>)"
      ]
     },
     "execution_count": 176,
     "metadata": {},
     "output_type": "execute_result"
    },
    {
     "data": {
      "image/png": "[encoded data removed]",
      "text/plain": [
       "<Figure size 432x360 with 2 Axes>"
      ]
     },
     "metadata": {
      "needs_background": "light"
     },
     "output_type": "display_data"
    }
   ],
   "source": [
    "plot_hippo(np.mean(gyr,axis=0),4)"
   ]
  },
  {
   "cell_type": "code",
   "execution_count": 201,
   "id": "423dc93e-d544-43d8-9dc3-981649be67c7",
   "metadata": {},
   "outputs": [],
   "source": [
    "clinical_features = ['Glucose_t0_FP','HbA1c_mol','Tot_chol','HDL','LDL','Triglyc','HEMAT','BMI','OSBP','ODBP'] \n",
    "cog_features =['MEMORY','EXECUTIVE_ATTENTION','PROCESSING_SPEED','OVERALL_COGNITION']"
   ]
  },
  {
   "cell_type": "code",
   "execution_count": 186,
   "id": "0453303e-4a78-4ddf-bac5-d02505656c02",
   "metadata": {},
   "outputs": [],
   "source": [
    "from brainstat.stats.terms import FixedEffect\n",
    "from brainstat.stats.SLM import SLM\n"
   ]
  },
  {
   "cell_type": "code",
   "execution_count": 296,
   "id": "e3c1b4b3-a64f-449e-a624-3a48074d829e",
   "metadata": {},
   "outputs": [],
   "source": [
    "def slm_reduced(model, explanitory_variable):\n",
    "    \n",
    "    slm = SLM(\n",
    "        model,\n",
    "        explanitory_variable,\n",
    "        surf=flatmap,\n",
    "        correction=['fdr','rft'],\n",
    "        cluster_threshold=0.01,\n",
    "    )\n",
    "    \n",
    "    return slm"
   ]
  },
  {
   "cell_type": "code",
   "execution_count": 430,
   "id": "d9bc086b-c2e0-4201-a928-58ed9d126cc4",
   "metadata": {},
   "outputs": [],
   "source": [
    "sex_bool = sub_df.SEX == 'male'\n",
    "sex_bool = sex_bool.astype('int')\n",
    "na2mean = lambda series: series.fillna(series.mean())\n",
    "\n",
    "hbca1c_nafill = sub_df.HbA1c_mol.fillna(sub_df.HbA1c_mol.mean())\n",
    "memory_nafill = na2mean(sub_df.MEMORY)\n",
    "\n",
    "term_age = FixedEffect(sub_df.N_AGE)\n",
    "term_sex = FixedEffect(sub_df.SEX.astype('category'))\n",
    "term_glu = FixedEffect(sub_df.Glucose_t0_FP)\n",
    "term_hba1c = FixedEffect(hbca1c_nafill)\n",
    "term_tot_chol = FixedEffect(sub_df.Tot_chol)\n",
    "term_triglyc = FixedEffect(sub_df.Triglyc)\n",
    "\n",
    "term_memory = FixedEffect(memory_nafill)"
   ]
  },
  {
   "cell_type": "code",
   "execution_count": 431,
   "id": "306ff4a3-ca87-4434-9b75-5cdd6ed56b7c",
   "metadata": {},
   "outputs": [],
   "source": [
    "model_fixed = term_age + term_sex\n",
    "model_glu = model_fixed + term_glu\n",
    "model_hba1c = model_fixed + term_hba1c\n",
    "model_tot_chol = model_fixed + term_tot_chol\n",
    "model_triglyc =  model_fixed + term_triglyc\n",
    "\n",
    "model_memory = model_fixed + term_memory"
   ]
  },
  {
   "cell_type": "code",
   "execution_count": 434,
   "id": "be4a702b-4b4d-469b-833e-11a5e910b52e",
   "metadata": {},
   "outputs": [
    {
     "data": {
      "text/html": [
       "<div>\n",
       "<style scoped>\n",
       "    .dataframe tbody tr th:only-of-type {\n",
       "        vertical-align: middle;\n",
       "    }\n",
       "\n",
       "    .dataframe tbody tr th {\n",
       "        vertical-align: top;\n",
       "    }\n",
       "\n",
       "    .dataframe thead th {\n",
       "        text-align: right;\n",
       "    }\n",
       "</style>\n",
       "<table border=\"1\" class=\"dataframe\">\n",
       "  <thead>\n",
       "    <tr style=\"text-align: right;\">\n",
       "      <th></th>\n",
       "      <th>intercept</th>\n",
       "      <th>N_AGE</th>\n",
       "      <th>SEX_female</th>\n",
       "      <th>SEX_male</th>\n",
       "      <th>Glucose_t0_FP</th>\n",
       "    </tr>\n",
       "  </thead>\n",
       "  <tbody>\n",
       "    <tr>\n",
       "      <th>0</th>\n",
       "      <td>1</td>\n",
       "      <td>56.0</td>\n",
       "      <td>0</td>\n",
       "      <td>1</td>\n",
       "      <td>4.8</td>\n",
       "    </tr>\n",
       "    <tr>\n",
       "      <th>1</th>\n",
       "      <td>1</td>\n",
       "      <td>58.0</td>\n",
       "      <td>1</td>\n",
       "      <td>0</td>\n",
       "      <td>4.9</td>\n",
       "    </tr>\n",
       "    <tr>\n",
       "      <th>2</th>\n",
       "      <td>1</td>\n",
       "      <td>66.0</td>\n",
       "      <td>1</td>\n",
       "      <td>0</td>\n",
       "      <td>5.3</td>\n",
       "    </tr>\n",
       "    <tr>\n",
       "      <th>3</th>\n",
       "      <td>1</td>\n",
       "      <td>60.0</td>\n",
       "      <td>0</td>\n",
       "      <td>1</td>\n",
       "      <td>5.5</td>\n",
       "    </tr>\n",
       "    <tr>\n",
       "      <th>4</th>\n",
       "      <td>1</td>\n",
       "      <td>64.0</td>\n",
       "      <td>1</td>\n",
       "      <td>0</td>\n",
       "      <td>5.2</td>\n",
       "    </tr>\n",
       "    <tr>\n",
       "      <th>...</th>\n",
       "      <td>...</td>\n",
       "      <td>...</td>\n",
       "      <td>...</td>\n",
       "      <td>...</td>\n",
       "      <td>...</td>\n",
       "    </tr>\n",
       "    <tr>\n",
       "      <th>126</th>\n",
       "      <td>1</td>\n",
       "      <td>65.0</td>\n",
       "      <td>0</td>\n",
       "      <td>1</td>\n",
       "      <td>7.9</td>\n",
       "    </tr>\n",
       "    <tr>\n",
       "      <th>127</th>\n",
       "      <td>1</td>\n",
       "      <td>56.0</td>\n",
       "      <td>1</td>\n",
       "      <td>0</td>\n",
       "      <td>6.5</td>\n",
       "    </tr>\n",
       "    <tr>\n",
       "      <th>128</th>\n",
       "      <td>1</td>\n",
       "      <td>56.0</td>\n",
       "      <td>1</td>\n",
       "      <td>0</td>\n",
       "      <td>6.5</td>\n",
       "    </tr>\n",
       "    <tr>\n",
       "      <th>129</th>\n",
       "      <td>1</td>\n",
       "      <td>52.0</td>\n",
       "      <td>0</td>\n",
       "      <td>1</td>\n",
       "      <td>5.4</td>\n",
       "    </tr>\n",
       "    <tr>\n",
       "      <th>130</th>\n",
       "      <td>1</td>\n",
       "      <td>54.0</td>\n",
       "      <td>1</td>\n",
       "      <td>0</td>\n",
       "      <td>5.7</td>\n",
       "    </tr>\n",
       "  </tbody>\n",
       "</table>\n",
       "<p>131 rows × 5 columns</p>\n",
       "</div>"
      ],
      "text/plain": [
       "     intercept  N_AGE  SEX_female  SEX_male  Glucose_t0_FP\n",
       "0            1   56.0           0         1            4.8\n",
       "1            1   58.0           1         0            4.9\n",
       "2            1   66.0           1         0            5.3\n",
       "3            1   60.0           0         1            5.5\n",
       "4            1   64.0           1         0            5.2\n",
       "..         ...    ...         ...       ...            ...\n",
       "126          1   65.0           0         1            7.9\n",
       "127          1   56.0           1         0            6.5\n",
       "128          1   56.0           1         0            6.5\n",
       "129          1   52.0           0         1            5.4\n",
       "130          1   54.0           1         0            5.7\n",
       "\n",
       "[131 rows x 5 columns]"
      ]
     },
     "execution_count": 434,
     "metadata": {},
     "output_type": "execute_result"
    }
   ],
   "source": [
    "model_glu"
   ]
  },
  {
   "cell_type": "code",
   "execution_count": 433,
   "id": "f2a94525-8dcd-48df-852d-8274af18396d",
   "metadata": {},
   "outputs": [],
   "source": [
    "slm_glu_thick = slm_reduced(model_glu, sub_df.Glucose_t0_FP)\n",
    "slm_glu_thick.fit(thick)"
   ]
  },
  {
   "cell_type": "code",
   "execution_count": 420,
   "id": "fbb74580-a33e-4ad3-be98-9b700b86914f",
   "metadata": {},
   "outputs": [],
   "source": [
    "slm_glu_area = slm_reduced(model_glu, sub_df.Glucose_t0_FP)\n",
    "slm_glu_area.fit(surfarea)"
   ]
  },
  {
   "cell_type": "code",
   "execution_count": 421,
   "id": "476bddac-76e4-4390-b3cc-d38176fd5d64",
   "metadata": {},
   "outputs": [
    {
     "data": {
      "text/plain": [
       "(<surfplot.plotting.Plot at 0x7f1309ddd5b0>, <Figure size 432x360 with 2 Axes>)"
      ]
     },
     "execution_count": 421,
     "metadata": {},
     "output_type": "execute_result"
    },
    {
     "data": {
      "image/png": "[encoded data removed]",
      "text/plain": [
       "<Figure size 432x360 with 2 Axes>"
      ]
     },
     "metadata": {
      "needs_background": "light"
     },
     "output_type": "display_data"
    }
   ],
   "source": [
    "plot_hippo(slm_glu_thick.t,allow_negative=True)"
   ]
  },
  {
   "cell_type": "code",
   "execution_count": 422,
   "id": "50a94b39-79ed-4c21-87b4-023982f23bb1",
   "metadata": {},
   "outputs": [
    {
     "data": {
      "text/plain": [
       "(<surfplot.plotting.Plot at 0x7f1309de6220>, <Figure size 432x360 with 2 Axes>)"
      ]
     },
     "execution_count": 422,
     "metadata": {},
     "output_type": "execute_result"
    },
    {
     "data": {
      "image/png": "[encoded data removed]",
      "text/plain": [
       "<Figure size 432x360 with 2 Axes>"
      ]
     },
     "metadata": {
      "needs_background": "light"
     },
     "output_type": "display_data"
    }
   ],
   "source": [
    "plot_flatmap(slm_glu_thick.t,allow_negative=True)"
   ]
  },
  {
   "cell_type": "code",
   "execution_count": 398,
   "id": "9fc9e767-f2f9-4754-b333-6d293271a57d",
   "metadata": {},
   "outputs": [
    {
     "data": {
      "text/plain": [
       "(<surfplot.plotting.Plot at 0x7f130d238d90>, <Figure size 432x360 with 2 Axes>)"
      ]
     },
     "execution_count": 398,
     "metadata": {},
     "output_type": "execute_result"
    },
    {
     "data": {
      "image/png": "[encoded data removed]",
      "text/plain": [
       "<Figure size 432x360 with 2 Axes>"
      ]
     },
     "metadata": {
      "needs_background": "light"
     },
     "output_type": "display_data"
    }
   ],
   "source": [
    "plot_flatmap(slm_glu_area.t,allow_negative=True)"
   ]
  },
  {
   "cell_type": "code",
   "execution_count": 406,
   "id": "f5034371-964f-4ff6-b93f-63fb846b72f8",
   "metadata": {},
   "outputs": [
    {
     "data": {
      "text/plain": [
       "<AxesSubplot:>"
      ]
     },
     "execution_count": 406,
     "metadata": {},
     "output_type": "execute_result"
    },
    {
     "data": {
      "image/png": "[encoded data removed]",
      "text/plain": [
       "<Figure size 432x288 with 1 Axes>"
      ]
     },
     "metadata": {
      "needs_background": "light"
     },
     "output_type": "display_data"
    }
   ],
   "source": [
    "sns.scatterplot(x = slm_glu_area.t.flatten() , y = slm_glu_thick.t.flatten())"
   ]
  },
  {
   "cell_type": "code",
   "execution_count": 310,
   "id": "c2ec4413-53df-4966-992e-db3d0756a588",
   "metadata": {},
   "outputs": [
    {
     "data": {
      "text/plain": [
       "<AxesSubplot:ylabel='Count'>"
      ]
     },
     "execution_count": 310,
     "metadata": {},
     "output_type": "execute_result"
    },
    {
     "data": {
      "image/png": "[encoded data removed]",
      "text/plain": [
       "<Figure size 432x288 with 1 Axes>"
      ]
     },
     "metadata": {
      "needs_background": "light"
     },
     "output_type": "display_data"
    }
   ],
   "source": [
    "sns.histplot(thick.mean(axis=1))"
   ]
  },
  {
   "cell_type": "code",
   "execution_count": 309,
   "id": "c01be230-a8a3-47fa-9382-d380ae83de95",
   "metadata": {},
   "outputs": [
    {
     "data": {
      "text/plain": [
       "<AxesSubplot:ylabel='Count'>"
      ]
     },
     "execution_count": 309,
     "metadata": {},
     "output_type": "execute_result"
    },
    {
     "data": {
      "image/png": "[encoded data removed]",
      "text/plain": [
       "<Figure size 432x288 with 1 Axes>"
      ]
     },
     "metadata": {
      "needs_background": "light"
     },
     "output_type": "display_data"
    }
   ],
   "source": [
    "sns.histplot(thick.std(axis=1))"
   ]
  },
  {
   "cell_type": "code",
   "execution_count": 311,
   "id": "e0c33e04-1e1b-4039-8682-ec9b70ed353f",
   "metadata": {},
   "outputs": [
    {
     "data": {
      "text/plain": [
       "<AxesSubplot:ylabel='Count'>"
      ]
     },
     "execution_count": 311,
     "metadata": {},
     "output_type": "execute_result"
    },
    {
     "data": {
      "image/png": "[encoded data removed]",
      "text/plain": [
       "<Figure size 432x288 with 1 Axes>"
      ]
     },
     "metadata": {
      "needs_background": "light"
     },
     "output_type": "display_data"
    }
   ],
   "source": [
    "sns.histplot(thick.max(axis=0))"
   ]
  },
  {
   "cell_type": "code",
   "execution_count": null,
   "id": "a9170ab1-1533-46ae-bfef-aa16809e1fdc",
   "metadata": {},
   "outputs": [],
   "source": []
  },
  {
   "cell_type": "code",
   "execution_count": 312,
   "id": "532cf28e-6590-4a5a-b878-3e77f8f8b394",
   "metadata": {},
   "outputs": [
    {
     "data": {
      "text/plain": [
       "<AxesSubplot:ylabel='Count'>"
      ]
     },
     "execution_count": 312,
     "metadata": {},
     "output_type": "execute_result"
    },
    {
     "data": {
      "image/png": "[encoded data removed]",
      "text/plain": [
       "<Figure size 432x288 with 1 Axes>"
      ]
     },
     "metadata": {
      "needs_background": "light"
     },
     "output_type": "display_data"
    }
   ],
   "source": [
    "sns.histplot(thick.min(axis=0))"
   ]
  },
  {
   "cell_type": "code",
   "execution_count": 322,
   "id": "552dd40e-d248-45c6-8c56-defe002fda9a",
   "metadata": {},
   "outputs": [
    {
     "data": {
      "text/plain": [
       "<AxesSubplot:xlabel='Glucose_t0', ylabel='Count'>"
      ]
     },
     "execution_count": 322,
     "metadata": {},
     "output_type": "execute_result"
    },
    {
     "data": {
      "image/png": "[encoded data removed]",
      "text/plain": [
       "<Figure size 432x288 with 1 Axes>"
      ]
     },
     "metadata": {
      "needs_background": "light"
     },
     "output_type": "display_data"
    }
   ],
   "source": [
    "sns.histplot(sub_df.Glucose_t0)"
   ]
  },
  {
   "cell_type": "code",
   "execution_count": 321,
   "id": "253580b0-cd14-4255-9074-7e37ce44b752",
   "metadata": {},
   "outputs": [
    {
     "data": {
      "text/plain": [
       "<AxesSubplot:xlabel='HbA1c_mol', ylabel='Count'>"
      ]
     },
     "execution_count": 321,
     "metadata": {},
     "output_type": "execute_result"
    },
    {
     "data": {
      "image/png": "[encoded data removed]",
      "text/plain": [
       "<Figure size 432x288 with 1 Axes>"
      ]
     },
     "metadata": {
      "needs_background": "light"
     },
     "output_type": "display_data"
    }
   ],
   "source": [
    "sns.histplot(sub_df.HbA1c_mol)"
   ]
  },
  {
   "cell_type": "code",
   "execution_count": null,
   "id": "ddd544db-fc06-4af7-b4e4-d26f8a6f5462",
   "metadata": {},
   "outputs": [],
   "source": [
    "slm_glu.t"
   ]
  },
  {
   "cell_type": "code",
   "execution_count": null,
   "id": "9694337c-c00b-46bd-964e-11d6f85eb9b1",
   "metadata": {},
   "outputs": [],
   "source": [
    "slm_glu.t"
   ]
  },
  {
   "cell_type": "code",
   "execution_count": 332,
   "id": "7d25ebda-bb3e-41cc-85b0-8340889f3e50",
   "metadata": {},
   "outputs": [],
   "source": [
    "slm_hba1c = slm_reduced(model_hba1c, hbca1c_nafill)\n",
    "slm_hba1c.fit(thick)"
   ]
  },
  {
   "cell_type": "code",
   "execution_count": 334,
   "id": "dbb710ad-ef0c-4d8c-a869-e36ca650fbd1",
   "metadata": {},
   "outputs": [
    {
     "data": {
      "text/plain": [
       "(<surfplot.plotting.Plot at 0x7f11604c3520>, <Figure size 432x360 with 2 Axes>)"
      ]
     },
     "execution_count": 334,
     "metadata": {},
     "output_type": "execute_result"
    },
    {
     "data": {
      "image/png": "[encoded data removed]",
      "text/plain": [
       "<Figure size 432x360 with 2 Axes>"
      ]
     },
     "metadata": {
      "needs_background": "light"
     },
     "output_type": "display_data"
    }
   ],
   "source": [
    "plot_hippo(slm_hba1c.t,allow_negative=True)"
   ]
  },
  {
   "cell_type": "code",
   "execution_count": 352,
   "id": "6f9a6a6d-fb29-41bd-b8f8-a3f2dad231a3",
   "metadata": {},
   "outputs": [
    {
     "data": {
      "text/plain": [
       "(<surfplot.plotting.Plot at 0x7f130e7d09a0>, <Figure size 432x360 with 2 Axes>)"
      ]
     },
     "execution_count": 352,
     "metadata": {},
     "output_type": "execute_result"
    },
    {
     "data": {
      "image/png": "[encoded data removed]",
      "text/plain": [
       "<Figure size 432x360 with 2 Axes>"
      ]
     },
     "metadata": {
      "needs_background": "light"
     },
     "output_type": "display_data"
    }
   ],
   "source": [
    "plot_flatmap(slm_hba1c.t,allow_negative=True)"
   ]
  },
  {
   "cell_type": "code",
   "execution_count": 382,
   "id": "4304cb23-475e-4800-9b56-15189be5056d",
   "metadata": {},
   "outputs": [],
   "source": [
    "slm_memory = slm_reduced(model_memory, memory_nafill)\n",
    "slm_memory.fit(thick)\n"
   ]
  },
  {
   "cell_type": "code",
   "execution_count": 384,
   "id": "3ef2c276-a3a7-4a62-9edb-f9d458dd21a3",
   "metadata": {},
   "outputs": [
    {
     "data": {
      "text/plain": [
       "(<surfplot.plotting.Plot at 0x7f130def51f0>, <Figure size 432x360 with 2 Axes>)"
      ]
     },
     "execution_count": 384,
     "metadata": {},
     "output_type": "execute_result"
    },
    {
     "data": {
      "image/png": "[encoded data removed]",
      "text/plain": [
       "<Figure size 432x360 with 2 Axes>"
      ]
     },
     "metadata": {
      "needs_background": "light"
     },
     "output_type": "display_data"
    }
   ],
   "source": [
    "plot_flatmap(slm_memory.t,allow_negative=True)"
   ]
  },
  {
   "cell_type": "code",
   "execution_count": 408,
   "id": "45e5d0bd-7143-454e-8e17-16526fd60780",
   "metadata": {},
   "outputs": [
    {
     "data": {
      "text/plain": [
       "(<surfplot.plotting.Plot at 0x7f130d9891f0>, <Figure size 432x360 with 2 Axes>)"
      ]
     },
     "execution_count": 408,
     "metadata": {},
     "output_type": "execute_result"
    },
    {
     "data": {
      "image/png": "[encoded data removed]",
      "text/plain": [
       "<Figure size 432x360 with 2 Axes>"
      ]
     },
     "metadata": {
      "needs_background": "light"
     },
     "output_type": "display_data"
    }
   ],
   "source": [
    "slm_glu.fit(curv)\n",
    "plot_flatmap(slm_glu.t,allow_negative=True)"
   ]
  },
  {
   "cell_type": "code",
   "execution_count": 409,
   "id": "38abb162-361a-4114-b570-7d3b3746186d",
   "metadata": {},
   "outputs": [
    {
     "data": {
      "text/plain": [
       "array([[0.00989657, 0.00989657, 0.00989657, ..., 0.14349138, 0.14349138,\n",
       "        0.14349138]])"
      ]
     },
     "execution_count": 409,
     "metadata": {},
     "output_type": "execute_result"
    }
   ],
   "source": [
    "slm_glu.t"
   ]
  },
  {
   "cell_type": "code",
   "execution_count": 425,
   "id": "9c7c5836-b79b-4ca4-b048-9a6ca2a6204a",
   "metadata": {},
   "outputs": [
    {
     "data": {
      "text/html": [
       "<div>\n",
       "<style scoped>\n",
       "    .dataframe tbody tr th:only-of-type {\n",
       "        vertical-align: middle;\n",
       "    }\n",
       "\n",
       "    .dataframe tbody tr th {\n",
       "        vertical-align: top;\n",
       "    }\n",
       "\n",
       "    .dataframe thead th {\n",
       "        text-align: right;\n",
       "    }\n",
       "</style>\n",
       "<table border=\"1\" class=\"dataframe\">\n",
       "  <thead>\n",
       "    <tr style=\"text-align: right;\">\n",
       "      <th></th>\n",
       "      <th>intercept</th>\n",
       "      <th>SEX_0</th>\n",
       "      <th>SEX_1</th>\n",
       "    </tr>\n",
       "  </thead>\n",
       "  <tbody>\n",
       "    <tr>\n",
       "      <th>0</th>\n",
       "      <td>1</td>\n",
       "      <td>0</td>\n",
       "      <td>1</td>\n",
       "    </tr>\n",
       "    <tr>\n",
       "      <th>1</th>\n",
       "      <td>1</td>\n",
       "      <td>1</td>\n",
       "      <td>0</td>\n",
       "    </tr>\n",
       "    <tr>\n",
       "      <th>2</th>\n",
       "      <td>1</td>\n",
       "      <td>1</td>\n",
       "      <td>0</td>\n",
       "    </tr>\n",
       "    <tr>\n",
       "      <th>3</th>\n",
       "      <td>1</td>\n",
       "      <td>0</td>\n",
       "      <td>1</td>\n",
       "    </tr>\n",
       "    <tr>\n",
       "      <th>4</th>\n",
       "      <td>1</td>\n",
       "      <td>1</td>\n",
       "      <td>0</td>\n",
       "    </tr>\n",
       "    <tr>\n",
       "      <th>...</th>\n",
       "      <td>...</td>\n",
       "      <td>...</td>\n",
       "      <td>...</td>\n",
       "    </tr>\n",
       "    <tr>\n",
       "      <th>126</th>\n",
       "      <td>1</td>\n",
       "      <td>0</td>\n",
       "      <td>1</td>\n",
       "    </tr>\n",
       "    <tr>\n",
       "      <th>127</th>\n",
       "      <td>1</td>\n",
       "      <td>1</td>\n",
       "      <td>0</td>\n",
       "    </tr>\n",
       "    <tr>\n",
       "      <th>128</th>\n",
       "      <td>1</td>\n",
       "      <td>1</td>\n",
       "      <td>0</td>\n",
       "    </tr>\n",
       "    <tr>\n",
       "      <th>129</th>\n",
       "      <td>1</td>\n",
       "      <td>0</td>\n",
       "      <td>1</td>\n",
       "    </tr>\n",
       "    <tr>\n",
       "      <th>130</th>\n",
       "      <td>1</td>\n",
       "      <td>1</td>\n",
       "      <td>0</td>\n",
       "    </tr>\n",
       "  </tbody>\n",
       "</table>\n",
       "<p>131 rows × 3 columns</p>\n",
       "</div>"
      ],
      "text/plain": [
       "     intercept  SEX_0  SEX_1\n",
       "0            1      0      1\n",
       "1            1      1      0\n",
       "2            1      1      0\n",
       "3            1      0      1\n",
       "4            1      1      0\n",
       "..         ...    ...    ...\n",
       "126          1      0      1\n",
       "127          1      1      0\n",
       "128          1      1      0\n",
       "129          1      0      1\n",
       "130          1      1      0\n",
       "\n",
       "[131 rows x 3 columns]"
      ]
     },
     "execution_count": 425,
     "metadata": {},
     "output_type": "execute_result"
    }
   ],
   "source": [
    "term_sex"
   ]
  },
  {
   "cell_type": "code",
   "execution_count": null,
   "id": "a091b6f5-92f3-4f28-8e3f-b301564e55d6",
   "metadata": {},
   "outputs": [],
   "source": []
  },
  {
   "cell_type": "code",
   "execution_count": null,
   "id": "5e4088b2-b4f7-46f8-8774-eb9cd084498a",
   "metadata": {},
   "outputs": [],
   "source": []
  }
 ],
 "metadata": {
  "kernelspec": {
   "display_name": "Python 3",
   "language": "python",
   "name": "python3"
  },
  "language_info": {
   "codemirror_mode": {
    "name": "ipython",
    "version": 3
   },
   "file_extension": ".py",
   "mimetype": "text/x-python",
   "name": "python",
   "nbconvert_exporter": "python",
   "pygments_lexer": "ipython3",
   "version": "3.8.2"
  }
 },
 "nbformat": 4,
 "nbformat_minor": 5
}
